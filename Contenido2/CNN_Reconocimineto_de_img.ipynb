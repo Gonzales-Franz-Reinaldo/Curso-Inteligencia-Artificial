{
  "nbformat": 4,
  "nbformat_minor": 0,
  "metadata": {
    "colab": {
      "provenance": []
    },
    "kernelspec": {
      "name": "python3",
      "display_name": "Python 3"
    },
    "language_info": {
      "name": "python"
    }
  },
  "cells": [
    {
      "cell_type": "code",
      "source": [
        "import pandas as pd\n",
        "import numpy as np\n",
        "import matplotlib.pyplot as plt\n",
        "from tensorflow import keras\n",
        "\n",
        "# Red neuronal secuencial\n",
        "from tensorflow.keras.models import Sequential\n",
        "# Capa completamente conectada\n",
        "from tensorflow.keras import layers\n",
        "from tensorflow.keras.layers import Dense, Conv2D\n",
        "# Optimizador\n",
        "from tensorflow.keras.optimizers import Adam"
      ],
      "metadata": {
        "id": "p4uQ_areCajQ"
      },
      "execution_count": 1,
      "outputs": []
    },
    {
      "cell_type": "code",
      "source": [
        "# Asegurar que los resultados sean \"reproducibles\"\n",
        "import tensorflow as tf\n",
        "\n",
        "np.random.seed(1234)\n",
        "tf.random.set_seed(1234)"
      ],
      "metadata": {
        "id": "80t0SzvwJDqN"
      },
      "execution_count": 2,
      "outputs": []
    },
    {
      "cell_type": "code",
      "source": [
        "X_train = pd.read_csv('/content/X_train.csv')\n",
        "y_train = pd.read_csv('/content/y_train.csv')"
      ],
      "metadata": {
        "id": "yIlJgFVjJbkj"
      },
      "execution_count": 3,
      "outputs": []
    },
    {
      "cell_type": "code",
      "source": [
        "def mostrar_num(in_data):\n",
        "  \"\"\"Genera un gráfico que muestra un registro\n",
        "  del set de datos.\n",
        "  Para ello, convierte el array de 1 dimensión en\n",
        "  una matriz de 28x28.\n",
        "  \"\"\"\n",
        "  matriz = np.array(in_data.values)\n",
        "  plt.imshow(matriz.reshape(28, 28))"
      ],
      "metadata": {
        "id": "uGyqE5pZJ7oB"
      },
      "execution_count": 4,
      "outputs": []
    },
    {
      "cell_type": "code",
      "source": [
        "X_train"
      ],
      "metadata": {
        "id": "HxbXncMHKBDX"
      },
      "execution_count": null,
      "outputs": []
    },
    {
      "cell_type": "code",
      "source": [
        "!explorer.exe ."
      ],
      "metadata": {
        "id": "zrKE051CL1Gy"
      },
      "execution_count": null,
      "outputs": []
    },
    {
      "cell_type": "code",
      "source": [
        "registro = 10\n",
        "print(y_train.iloc[registro])\n",
        "mostrar_num(X_train.iloc[registro])"
      ],
      "metadata": {
        "colab": {
          "base_uri": "https://localhost:8080/",
          "height": 631
        },
        "id": "0S5wsjQdMKcP",
        "outputId": "5fee0f6b-30fb-4cfa-c2c4-b8c61bd09888"
      },
      "execution_count": 10,
      "outputs": [
        {
          "output_type": "stream",
          "name": "stdout",
          "text": [
            "0    0\n",
            "1    0\n",
            "2    0\n",
            "3    0\n",
            "4    0\n",
            "5    0\n",
            "6    0\n",
            "7    0\n",
            "8    1\n",
            "9    0\n",
            "Name: 10, dtype: int64\n"
          ]
        },
        {
          "output_type": "display_data",
          "data": {
            "text/plain": [
              "<Figure size 640x480 with 1 Axes>"
            ],
            "image/png": "[encoded data removed]"
          },
          "metadata": {}
        }
      ]
    },
    {
      "cell_type": "code",
      "source": [
        "print(X_train.shape)"
      ],
      "metadata": {
        "colab": {
          "base_uri": "https://localhost:8080/"
        },
        "id": "HHmbKGuZMa0u",
        "outputId": "a4aa84ea-2444-41aa-9f97-0f0b48517de2"
      },
      "execution_count": 11,
      "outputs": [
        {
          "output_type": "stream",
          "name": "stdout",
          "text": [
            "(7500, 784)\n"
          ]
        }
      ]
    },
    {
      "cell_type": "code",
      "source": [
        "print(y_train.shape)"
      ],
      "metadata": {
        "colab": {
          "base_uri": "https://localhost:8080/"
        },
        "id": "cNMgaIsaTz6b",
        "outputId": "4dc74625-e4c3-42cf-8115-2702ec3f91fe"
      },
      "execution_count": 12,
      "outputs": [
        {
          "output_type": "stream",
          "name": "stdout",
          "text": [
            "(7500, 10)\n"
          ]
        }
      ]
    },
    {
      "cell_type": "code",
      "source": [
        "# Crear red neuronal\n",
        "nn_squencial = Sequential([\n",
        "    layers.Input(784),\n",
        "    layers.Dense(256, activation='relu'),\n",
        "    layers.Dense(256, activation='relu'),\n",
        "    layers.Dense(256, activation='relu'),\n",
        "    layers.Dense(128, activation='relu'),\n",
        "    layers.Dense(10, activation='softmax')\n",
        "])"
      ],
      "metadata": {
        "id": "NQwzlATKUM87"
      },
      "execution_count": 13,
      "outputs": []
    },
    {
      "cell_type": "code",
      "source": [
        "nn_squencial.compile(\n",
        "    loss='categorical_crossentropy',\n",
        "    optimizer=Adam(learning_rate=0.01),\n",
        "    metrics=['accuracy']\n",
        ")"
      ],
      "metadata": {
        "id": "DerI1OgoXIfT"
      },
      "execution_count": 16,
      "outputs": []
    },
    {
      "cell_type": "code",
      "source": [
        "historial = nn_squencial.fit(\n",
        "    X_train.values,\n",
        "    y_train.values,\n",
        "    epochs=10,\n",
        "    validation_split=0.1\n",
        ")"
      ],
      "metadata": {
        "colab": {
          "base_uri": "https://localhost:8080/"
        },
        "id": "sS5uHfhIXfyz",
        "outputId": "4980d02d-7eeb-42fc-f568-9b5404e680b3"
      },
      "execution_count": 17,
      "outputs": [
        {
          "output_type": "stream",
          "name": "stdout",
          "text": [
            "Epoch 1/10\n",
            "211/211 [==============================] - 4s 10ms/step - loss: 8.4167 - accuracy: 0.6246 - val_loss: 0.6237 - val_accuracy: 0.8187\n",
            "Epoch 2/10\n",
            "211/211 [==============================] - 2s 8ms/step - loss: 0.6903 - accuracy: 0.8102 - val_loss: 0.7830 - val_accuracy: 0.7907\n",
            "Epoch 3/10\n",
            "211/211 [==============================] - 2s 8ms/step - loss: 0.5905 - accuracy: 0.8376 - val_loss: 0.7024 - val_accuracy: 0.8240\n",
            "Epoch 4/10\n",
            "211/211 [==============================] - 2s 8ms/step - loss: 0.5566 - accuracy: 0.8556 - val_loss: 0.5427 - val_accuracy: 0.8627\n",
            "Epoch 5/10\n",
            "211/211 [==============================] - 2s 8ms/step - loss: 0.5132 - accuracy: 0.8637 - val_loss: 0.6192 - val_accuracy: 0.8240\n",
            "Epoch 6/10\n",
            "211/211 [==============================] - 3s 14ms/step - loss: 0.5444 - accuracy: 0.8542 - val_loss: 0.4821 - val_accuracy: 0.8947\n",
            "Epoch 7/10\n",
            "211/211 [==============================] - 2s 8ms/step - loss: 0.4725 - accuracy: 0.8816 - val_loss: 0.5112 - val_accuracy: 0.8827\n",
            "Epoch 8/10\n",
            "211/211 [==============================] - 2s 8ms/step - loss: 0.4766 - accuracy: 0.8772 - val_loss: 0.6783 - val_accuracy: 0.8093\n",
            "Epoch 9/10\n",
            "211/211 [==============================] - 2s 8ms/step - loss: 0.7992 - accuracy: 0.7926 - val_loss: 0.8563 - val_accuracy: 0.7107\n",
            "Epoch 10/10\n",
            "211/211 [==============================] - 2s 8ms/step - loss: 1.5572 - accuracy: 0.4978 - val_loss: 1.9612 - val_accuracy: 0.2413\n"
          ]
        }
      ]
    },
    {
      "cell_type": "code",
      "source": [
        "conv_nn = keras.Sequential(\n",
        "    [\n",
        "        keras.Input(shape=(28, 28, 1)),\n",
        "        layers.Conv2D(32, kernel_size=(3, 3), activation='relu'),\n",
        "        layers.MaxPooling2D(pool_size=(2, 2)),\n",
        "        layers.Conv2D(64, kernel_size=(3, 3), activation='relu'),\n",
        "        layers.MaxPooling2D(pool_size=(2, 2)),\n",
        "        layers.Flatten(),\n",
        "        layers.Dropout(0.5),\n",
        "        layers.Dense(10, activation='softmax')\n",
        "    ]\n",
        ")"
      ],
      "metadata": {
        "id": "ULJZAizMYA_3"
      },
      "execution_count": 19,
      "outputs": []
    },
    {
      "cell_type": "code",
      "source": [
        "conv_nn.compile(\n",
        "    loss='categorical_crossentropy',\n",
        "    optimizer=Adam(learning_rate=0.01),\n",
        "    metrics=['accuracy']\n",
        ")"
      ],
      "metadata": {
        "id": "8W1KOorHe5xz"
      },
      "execution_count": 20,
      "outputs": []
    },
    {
      "cell_type": "code",
      "source": [
        "new_x_train = X_train.values.reshape(-1, 28, 28)"
      ],
      "metadata": {
        "id": "UsBs-8_HfTLv"
      },
      "execution_count": 22,
      "outputs": []
    },
    {
      "cell_type": "code",
      "source": [
        "conv_nn.fit(\n",
        "    new_x_train,\n",
        "    y_train,\n",
        "    batch_size=128,\n",
        "    epochs=10, validation_split=0.1\n",
        ")"
      ],
      "metadata": {
        "colab": {
          "base_uri": "https://localhost:8080/"
        },
        "id": "QaFFpfIvfa62",
        "outputId": "b9d5e92d-4451-4d39-9e00-9d7daf34db77"
      },
      "execution_count": 26,
      "outputs": [
        {
          "output_type": "stream",
          "name": "stdout",
          "text": [
            "Epoch 1/10\n",
            "53/53 [==============================] - 5s 103ms/step - loss: 0.2804 - accuracy: 0.9151 - val_loss: 0.1698 - val_accuracy: 0.9427\n",
            "Epoch 2/10\n",
            "53/53 [==============================] - 4s 83ms/step - loss: 0.2432 - accuracy: 0.9225 - val_loss: 0.1149 - val_accuracy: 0.9613\n",
            "Epoch 3/10\n",
            "53/53 [==============================] - 5s 98ms/step - loss: 0.2436 - accuracy: 0.9253 - val_loss: 0.1396 - val_accuracy: 0.9547\n",
            "Epoch 4/10\n",
            "53/53 [==============================] - 5s 84ms/step - loss: 0.2500 - accuracy: 0.9218 - val_loss: 0.1131 - val_accuracy: 0.9600\n",
            "Epoch 5/10\n",
            "53/53 [==============================] - 4s 78ms/step - loss: 0.2377 - accuracy: 0.9295 - val_loss: 0.0894 - val_accuracy: 0.9667\n",
            "Epoch 6/10\n",
            "53/53 [==============================] - 5s 99ms/step - loss: 0.2332 - accuracy: 0.9268 - val_loss: 0.0870 - val_accuracy: 0.9680\n",
            "Epoch 7/10\n",
            "53/53 [==============================] - 4s 80ms/step - loss: 0.2593 - accuracy: 0.9218 - val_loss: 0.1358 - val_accuracy: 0.9613\n",
            "Epoch 8/10\n",
            "53/53 [==============================] - 4s 82ms/step - loss: 0.2377 - accuracy: 0.9283 - val_loss: 0.0972 - val_accuracy: 0.9693\n",
            "Epoch 9/10\n",
            "53/53 [==============================] - 5s 102ms/step - loss: 0.2675 - accuracy: 0.9218 - val_loss: 0.1098 - val_accuracy: 0.9613\n",
            "Epoch 10/10\n",
            "53/53 [==============================] - 4s 80ms/step - loss: 0.4255 - accuracy: 0.8879 - val_loss: 0.1715 - val_accuracy: 0.9427\n"
          ]
        },
        {
          "output_type": "execute_result",
          "data": {
            "text/plain": [
              "<keras.src.callbacks.History at 0x7e00b82533a0>"
            ]
          },
          "metadata": {},
          "execution_count": 26
        }
      ]
    },
    {
      "cell_type": "code",
      "source": [
        "new_x_train"
      ],
      "metadata": {
        "id": "uz_yCvGnf4Fo"
      },
      "execution_count": null,
      "outputs": []
    },
    {
      "cell_type": "code",
      "source": [
        "conv_nn.save('conv_nn.h5')"
      ],
      "metadata": {
        "id": "RxxZA4CtgXM0"
      },
      "execution_count": null,
      "outputs": []
    },
    {
      "cell_type": "code",
      "source": [],
      "metadata": {
        "id": "aUn6Gpjvhyod"
      },
      "execution_count": null,
      "outputs": []
    }
  ]
}