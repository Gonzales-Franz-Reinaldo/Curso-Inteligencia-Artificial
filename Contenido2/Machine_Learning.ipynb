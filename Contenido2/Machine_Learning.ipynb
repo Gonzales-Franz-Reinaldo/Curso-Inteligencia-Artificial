{
  "nbformat": 4,
  "nbformat_minor": 0,
  "metadata": {
    "colab": {
      "provenance": []
    },
    "kernelspec": {
      "name": "python3",
      "display_name": "Python 3"
    },
    "language_info": {
      "name": "python"
    }
  },
  "cells": [
    {
      "cell_type": "code",
      "source": [
        "import pandas as pd\n",
        "import numpy as np\n",
        "# Para medición del tiempo que toma ejecutar los procesos\n",
        "from time import time\n",
        "# Para separar datos de entrenamiento y prueba\n",
        "from sklearn.model_selection import train_test_split\n",
        "# Libreria para SVM\n",
        "from sklearn.svm import SVC\n",
        "# Medición de precisión\n",
        "from sklearn.metrics import accuracy_score, confusion_matrix\n",
        "# Generar gráficos\n",
        "import matplotlib.pyplot as plt\n",
        "\n"
      ],
      "metadata": {
        "id": "GgPTjgOLM6Ee"
      },
      "execution_count": 14,
      "outputs": []
    },
    {
      "cell_type": "code",
      "source": [
        "diabetes_df = pd.read_csv('/content/diabetes.csv')\n",
        "\n",
        "diabetes_df.info()"
      ],
      "metadata": {
        "id": "0ud3qr4-OvKx"
      },
      "execution_count": null,
      "outputs": []
    },
    {
      "cell_type": "code",
      "source": [
        "diabetes_df.head(2)"
      ],
      "metadata": {
        "id": "SbFoStowO7XQ"
      },
      "execution_count": null,
      "outputs": []
    },
    {
      "cell_type": "code",
      "source": [
        "# Contar los valores únicos de una columna en un DataFrame\n",
        "diabetes_df['Outcome'].value_counts()"
      ],
      "metadata": {
        "id": "B-RrFM6_PW8d"
      },
      "execution_count": null,
      "outputs": []
    },
    {
      "cell_type": "markdown",
      "source": [
        "En este caso, tenemos muchas más muestras de pacientes diagnosticados sin diabetes (0). Esto podría representar un problema para las predicciones de nuestra SVM, pues estará sesgada a predecir más resultados de la clase que contiene más muestras.\n",
        "\n",
        "\n",
        "Para empezar el proceso de entrenamiento, es necesario separar las características (X) de las etiquetas (y). El objetivo de todo el análisis es poder predecir una etiqueta y, contando únicamente con las características (y). La SVM se encargará de aprender la relación que existe entre X y y."
      ],
      "metadata": {
        "id": "nEfM2It_QT04"
      }
    },
    {
      "cell_type": "code",
      "source": [
        "# Crearemos un nuevo df llamado X (notar mayus) con las columnas de características\n",
        "# Se obtiene generando una lista de columnas del df a utilizar\n",
        "\n",
        "lista_caract = [\n",
        "    'Pregnancies',\n",
        "    'Glucose',\n",
        "    'BloodPressure',\n",
        "    'SkinThickness',\n",
        "    'Insulin',\n",
        "    'BMI',\n",
        "    'DiabetesPedigreeFunction',\n",
        "    'Age'\n",
        "]\n",
        "\n",
        "# Luego tomando esa lista del df original\n",
        "X = diabetes_df[lista_caract]\n",
        "\n",
        "# Mostramos los resultados\n",
        "X.head()"
      ],
      "metadata": {
        "id": "Dvgq-qt5QDpp"
      },
      "execution_count": null,
      "outputs": []
    },
    {
      "cell_type": "code",
      "source": [
        "# Utilizaremos el mismo procedimiento para generar y\n",
        "lista_etiq = ['Outcome']\n",
        "\n",
        "Y = diabetes_df[lista_etiq]\n",
        "\n",
        "Y.head()"
      ],
      "metadata": {
        "id": "YMmVnZxNSm3V"
      },
      "execution_count": null,
      "outputs": []
    },
    {
      "cell_type": "markdown",
      "source": [
        "Ahora que tenemos nuestros objetos de X y y, procederemos a separarlos en conjuntos de entrenamiento (que serviran para aprender) y prueba (para validadr que el aprendizaje sea correcto.\n",
        "\n",
        "\n",
        "Este proceso será realizado con la función train_test_split que importamos al inicio del documento. Por defecto, esta función tomará 25% (0.25) de nuestro conjunto total de datos como prueba y el resto para entrenamiento."
      ],
      "metadata": {
        "id": "Q8nTheLMUJ44"
      }
    },
    {
      "cell_type": "code",
      "source": [
        "# Separar en datos de entrenamiento y datos de prueba\n",
        "X_train, X_test, Y_train, Y_test = train_test_split(X, Y)"
      ],
      "metadata": {
        "id": "58c2QpYZS-Mw"
      },
      "execution_count": 8,
      "outputs": []
    },
    {
      "cell_type": "code",
      "source": [
        "# Mostraremos la cantidad de datos a utilizar para el entrenamiento\n",
        "X_train.shape"
      ],
      "metadata": {
        "id": "HPnQobbgUpSP"
      },
      "execution_count": null,
      "outputs": []
    },
    {
      "cell_type": "code",
      "source": [
        "# Luego, la cantidad de datos a utilizar para validar\n",
        "X_test.shape"
      ],
      "metadata": {
        "id": "TpxHtybEU1sh"
      },
      "execution_count": null,
      "outputs": []
    },
    {
      "cell_type": "code",
      "source": [
        "# Luego, la cantidad de datos a utilizar para validar\n",
        "Y_test.shape"
      ],
      "metadata": {
        "id": "L63kTFw2YdwS"
      },
      "execution_count": null,
      "outputs": []
    },
    {
      "cell_type": "markdown",
      "source": [
        "Creación de la SVM\n",
        "\n",
        "Utilizaremos la clase SVC (Support Vector Classifier) que importamos al inicio. Como vimos en la introducción, existen diversos tipos de kernel que podemos utilizar para crear una SVM. En este caso tomaremos un kernel lineal (en sklearn linear) para que el entrenamiento sea rápido."
      ],
      "metadata": {
        "id": "k8pit7ZSWMAu"
      }
    },
    {
      "cell_type": "code",
      "source": [
        "# Definición del modelo que llamaremos clf 'clasificación'\n",
        "clf = SVC(kernel='linear')"
      ],
      "metadata": {
        "id": "inj7Zd67U9fY"
      },
      "execution_count": 9,
      "outputs": []
    },
    {
      "cell_type": "markdown",
      "source": [
        "El entrenamiento de un modelo en sklearn es bastante sencillo. Basta con llamar el método fit para encontrar las relaciones entre nuestra X y y. El único inconveniente es que el método fit recibe valores de tipo array, pero nuestros datos actualmente se encuentran contenidos en objetos de tipo pandas.DataFrame (df). Para convertir un df en un array, basta con tomar el atributo values del mismo df.\n"
      ],
      "metadata": {
        "id": "oEDKgVRTW1nv"
      }
    },
    {
      "cell_type": "code",
      "source": [
        "# Guardamos el registro del momento en el que empezamos el entrenamiento\n",
        "hora_inicio = time()\n",
        "\n",
        "# Iniciamos el entrenamiento ejecutando el metodo fit\n",
        "# Los valores que enviamos son los valores de X y y\n",
        "#\n",
        "# El .ravel() que final de y.values es un pequeño truco para cambiar su forma\n",
        "# esto permite convertir una matriz de dos dimensiones en una sola dimesión,\n",
        "# con ello, cada elemento de esta nueva matriz corresponde a un registro de X\n",
        "\n",
        "# fit() -> entrena y ajuste los valores\n",
        "\n",
        "clf.fit(X_train.values, Y_train.values.ravel())\n",
        "\n",
        "# Imprimimos el tiempo tomado para el entrenamiento\n",
        "print('Entrenamiento terminado en {} segundos'.format(time() - hora_inicio))"
      ],
      "metadata": {
        "id": "V7KJLB6UW2tf"
      },
      "execution_count": null,
      "outputs": []
    },
    {
      "cell_type": "markdown",
      "source": [
        "Una vez terminado el entrenamiento, es necesario medir su precisión. Para ello, intentaremos predecir los datos de nuestra y de prueba utilizando nuestra X de prueba. A estos datos les llamaremos y_pred, pues contendrán nuestra predicción."
      ],
      "metadata": {
        "id": "aO7bsWcpiNPn"
      }
    },
    {
      "cell_type": "code",
      "source": [
        "# Otra vez guardaremos registro del tiempo que nos toma crear esta predicción\n",
        "hora_inicio = time()\n",
        "\n",
        "# Iniciamos la predición con nuestra X de prueba\n",
        "y_pred = clf.predict(X_test)\n",
        "print('Entrenamiento terminado en {} segundos'.format(time() - hora_inicio))"
      ],
      "metadata": {
        "id": "7yikKl6mZy2g"
      },
      "execution_count": null,
      "outputs": []
    },
    {
      "cell_type": "markdown",
      "source": [
        "Una vez terminada nuestra predicción, podemos comparar su precisión con la función accuracy_score. Esto se encargará de mostrarnos el porcentaje de predicciones correctas realizadas por nuestro modelo."
      ],
      "metadata": {
        "id": "cg7ZbSpIjmh_"
      }
    },
    {
      "cell_type": "code",
      "source": [
        "# Evaluamos la precisión\n",
        "accuracy_score(Y_test, y_pred)"
      ],
      "metadata": {
        "id": "GLRSnYI4i-62"
      },
      "execution_count": null,
      "outputs": []
    },
    {
      "cell_type": "markdown",
      "source": [
        "En este caso, la precisión del modelo fue relativamente aceptable (0.79). Sin embargo, debido a que los datos de aprendizaje fueron muy pocos (cerca de 500) y que estaban muy sesgados hacia la clase más representada (la gente sin diabetes), es posible que no funcione bien en muchos casos."
      ],
      "metadata": {
        "id": "3U-ssBiUkP-b"
      }
    },
    {
      "cell_type": "markdown",
      "source": [
        "**Matriz de confusión**\n",
        "\n",
        "Una matriz de confusión nos ayuda a tener una mejor idea del rendimiento de nuestro modelo. Se encarga de comparar la cantidad de aciertos de cada clase de nuestros datos de prueba (y_test en este caso) y nuestros datos calculados (y_pred en este caso)."
      ],
      "metadata": {
        "id": "jpHVmWTNmG6b"
      }
    },
    {
      "cell_type": "code",
      "source": [
        "# La función confusion_matrix recibe las \"respuestas correctas\" y nuestras predicciones\n",
        "# genera una matriz que indica, para cada clase, la cantidad de predicciones correctas e incorrectas\n",
        "\n",
        "conf_diabetes = confusion_matrix(Y_test, y_pred)\n",
        "conf_diabetes"
      ],
      "metadata": {
        "id": "6spcvKpHkFVC"
      },
      "execution_count": null,
      "outputs": []
    },
    {
      "cell_type": "markdown",
      "source": [
        "Debido a que es poco complicado comprender la matriz únicamente de forma numérica, vamos a crear una función que lo muestre de forma gráfica.\n",
        "\n"
      ],
      "metadata": {
        "id": "3WaoLMHbmktz"
      }
    },
    {
      "cell_type": "code",
      "source": [
        "def plot_cm(cm, clases):\n",
        "    \"\"\"Esta función se encarga de generar un gráfico con nuestra matriz de confusión.\n",
        "    cm es la matriz generada por confusion_matrix\n",
        "    classes es una lista que contiene las posibles clases que puede predecir nuestro modelo\n",
        "    \"\"\"\n",
        "\n",
        "    plt.imshow(cm, cmap=plt.cm.Blues)\n",
        "    plt.title('Matriz de confusión')\n",
        "    plt.colorbar()\n",
        "    tick_marks = np.arange(len(clases))\n",
        "    plt.xticks(tick_marks, clases, rotation=45)\n",
        "    plt.yticks(tick_marks, clases)\n",
        "    thresh = cm.max() / 2\n",
        "\n",
        "    for indice_fila, fila in enumerate(cm):\n",
        "      for indice_columna, columna in enumerate(fila):\n",
        "        if cm[indice_fila, indice_columna] > thresh:\n",
        "          color = 'white'\n",
        "        else:\n",
        "          color = 'black'\n",
        "        plt.text(\n",
        "            indice_columna,\n",
        "            indice_fila,\n",
        "            cm[indice_fila, indice_columna],\n",
        "            color = color,\n",
        "            horizontalalignment = 'center'\n",
        "        )\n",
        "    plt.ylabel('Valores reales')\n",
        "    plt.xlabel('Valores calculados')\n",
        "    plt.show()\n"
      ],
      "metadata": {
        "id": "ZqdupfnbmhO1"
      },
      "execution_count": 19,
      "outputs": []
    },
    {
      "cell_type": "code",
      "source": [
        "# Generamos el gráfico llamando la función que creamos y enviando los parámetros\n",
        "# cm = nuestra matriz de confusión (conf_diabetes)\n",
        "# classes = las clases a predecir (si tienen diabetes o no)\n",
        "\n",
        "plot_cm(conf_diabetes, ['No diabetes', 'Sí diabetes'])"
      ],
      "metadata": {
        "colab": {
          "base_uri": "https://localhost:8080/",
          "height": 526
        },
        "id": "_sJ5Zhu8pHbj",
        "outputId": "4107fce2-4c89-4f39-a4af-7526b15d857b"
      },
      "execution_count": 20,
      "outputs": [
        {
          "output_type": "display_data",
          "data": {
            "text/plain": [
              "<Figure size 640x480 with 2 Axes>"
            ],
            "image/png": "[encoded data removed]"
          },
          "metadata": {}
        }
      ]
    },
    {
      "cell_type": "code",
      "source": [],
      "metadata": {
        "id": "PehpAN7dpxDg"
      },
      "execution_count": null,
      "outputs": []
    }
  ]
}