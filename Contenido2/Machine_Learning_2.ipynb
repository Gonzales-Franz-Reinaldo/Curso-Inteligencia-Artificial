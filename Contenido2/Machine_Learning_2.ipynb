{
  "nbformat": 4,
  "nbformat_minor": 0,
  "metadata": {
    "colab": {
      "provenance": []
    },
    "kernelspec": {
      "name": "python3",
      "display_name": "Python 3"
    },
    "language_info": {
      "name": "python"
    }
  },
  "cells": [
    {
      "cell_type": "code",
      "source": [
        "import pandas as pd\n",
        "import numpy as np\n",
        "import matplotlib.pyplot as plt\n",
        "from time import time\n",
        "# Herramientas de SVM\n",
        "from sklearn.svm import SVC\n",
        "from sklearn.model_selection import train_test_split\n",
        "from sklearn.metrics import accuracy_score\n",
        "from sklearn.metrics import confusion_matrix\n"
      ],
      "metadata": {
        "id": "PehpAN7dpxDg"
      },
      "execution_count": 2,
      "outputs": []
    },
    {
      "cell_type": "code",
      "source": [
        "# Leer el set de datos y consultar información básica\n",
        "df = pd.read_csv('/content/digitos.csv')\n",
        "df.info()"
      ],
      "metadata": {
        "id": "qOf7SnqZPhgL"
      },
      "execution_count": null,
      "outputs": []
    },
    {
      "cell_type": "code",
      "source": [
        "# Consultar los primeros datos\n",
        "df.head()"
      ],
      "metadata": {
        "id": "YsjZyJisQbTZ"
      },
      "execution_count": null,
      "outputs": []
    },
    {
      "cell_type": "code",
      "source": [
        "df['label'].value_counts()"
      ],
      "metadata": {
        "id": "pSvS6-eiSzA7"
      },
      "execution_count": null,
      "outputs": []
    },
    {
      "cell_type": "code",
      "source": [
        "df['label'].hist()"
      ],
      "metadata": {
        "id": "94qImMfPS8Cu"
      },
      "execution_count": null,
      "outputs": []
    },
    {
      "cell_type": "code",
      "source": [
        "# Obtener una sección de DataFrame usando los números de columna\n",
        "pixeles = df.iloc[:,1:785] # X\n",
        "digitos = df.iloc[:,0:1] # Y"
      ],
      "metadata": {
        "id": "OU1EYLphVJzY"
      },
      "execution_count": null,
      "outputs": []
    },
    {
      "cell_type": "code",
      "source": [
        "# Separar datos para entrenar y para probar\n",
        "X_train, X_test, y_train, y_test = train_test_split(pixeles, digitos, test_size=0.5)"
      ],
      "metadata": {
        "id": "kqAKDD0kVoX7"
      },
      "execution_count": null,
      "outputs": []
    },
    {
      "cell_type": "code",
      "source": [
        "# Consultar información de la muestra de entrenamiento\n",
        "X_train.shape"
      ],
      "metadata": {
        "id": "y0QVGtB4WOp_"
      },
      "execution_count": null,
      "outputs": []
    },
    {
      "cell_type": "code",
      "source": [
        "X_train.head()"
      ],
      "metadata": {
        "id": "Hq-pbuQcXFdV"
      },
      "execution_count": null,
      "outputs": []
    },
    {
      "cell_type": "code",
      "source": [
        "def mostrar_num(in_data):\n",
        "  \"\"\"Genera un gráfico que muestra un registro\n",
        "    del set de datos.\n",
        "    Para ello, convierte el array de 1 dimensión en\n",
        "    una matriz de 28x28.\n",
        "  \"\"\"\n",
        "  matriz = np.array(in_data.values)\n",
        "  plt.imshow(matriz.reshape(28, 28))"
      ],
      "metadata": {
        "id": "o3cTzsVmXlKu"
      },
      "execution_count": null,
      "outputs": []
    },
    {
      "cell_type": "code",
      "source": [
        "mostrar_num(X_test.iloc[100])"
      ],
      "metadata": {
        "id": "ubrggS_PYFZ1"
      },
      "execution_count": null,
      "outputs": []
    },
    {
      "cell_type": "code",
      "source": [
        "# Creación del modelo\n",
        "modelo = SVC(kernel='linear')"
      ],
      "metadata": {
        "id": "iPs0QNWKcaji"
      },
      "execution_count": null,
      "outputs": []
    },
    {
      "cell_type": "code",
      "source": [
        "# Entrenamiento del modelo\n",
        "hora_inicio = time()\n",
        "modelo.fit(X_train.values, y_train.values.ravel())\n",
        "print('Entrenamiento terminado en {}'.format(time() - hora_inicio))"
      ],
      "metadata": {
        "id": "6lk1r-nrckdl"
      },
      "execution_count": null,
      "outputs": []
    },
    {
      "cell_type": "code",
      "source": [
        "# Crear predicción de datos\n",
        "hora_inicio = time()\n",
        "\n",
        "y_pred = modelo.predict(X_test.values)\n",
        "print('Predicción terminada en {}'.format(time() - hora_inicio))\n",
        "print(y_pred.shape)"
      ],
      "metadata": {
        "id": "Dj6v7Lo6hYu3"
      },
      "execution_count": null,
      "outputs": []
    },
    {
      "cell_type": "code",
      "source": [
        "precision = accuracy_score(y_test, y_pred)\n",
        "print(f'Precisión: {precision}')"
      ],
      "metadata": {
        "id": "5y5o5HTnh-ae"
      },
      "execution_count": null,
      "outputs": []
    },
    {
      "cell_type": "code",
      "source": [
        "prueba = X_test.iloc[100]\n",
        "print(f'El resultado era: {y_test.iloc[100]}')\n",
        "mostrar_num(prueba)\n",
        "prediccion = modelo.predict([prueba])\n",
        "print(f'El digito es: {prediccion}')"
      ],
      "metadata": {
        "id": "UR8uBG0risas"
      },
      "execution_count": null,
      "outputs": []
    },
    {
      "cell_type": "code",
      "source": [
        "# Prueba con la matriz de confusión\n",
        "conf = confusion_matrix(y_test, y_pred)"
      ],
      "metadata": {
        "id": "RmfMRveaEcGy"
      },
      "execution_count": null,
      "outputs": []
    },
    {
      "cell_type": "code",
      "source": [
        "# Mostrar los resultados\n",
        "conf"
      ],
      "metadata": {
        "id": "7nzefob-Em6F"
      },
      "execution_count": null,
      "outputs": []
    },
    {
      "cell_type": "code",
      "source": [
        "def plot_cm(cm, classes):\n",
        "    \"\"\"Esta función se encarga de generar un gráfico con nuestra matriz de confusión.\n",
        "    cm es la matriz generada por confusion_matrix\n",
        "    classes es una lista que contiene las posibles clases que puede predecir nuestro modelo\n",
        "    \"\"\"\n",
        "    plt.imshow(cm, cmap=plt.cm.Blues)\n",
        "    plt.title('Matriz de confusión')\n",
        "    plt.colorbar()\n",
        "    tick_marks = np.arange(len(classes))\n",
        "    plt.xticks(tick_marks, classes, rotation=45)\n",
        "    plt.yticks(tick_marks, classes)\n",
        "    thresh = cm.max() / 2.\n",
        "    for indice_fila, fila in enumerate(cm):\n",
        "        for indice_columna, columna in enumerate(fila):\n",
        "            if cm[indice_fila, indice_columna] > thresh:\n",
        "                color = \"white\"\n",
        "            else:\n",
        "                color = \"black\"\n",
        "            plt.text(\n",
        "                indice_columna,\n",
        "                indice_fila,\n",
        "                cm[indice_fila, indice_columna],\n",
        "                color=color,\n",
        "                horizontalalignment=\"center\"\n",
        "            )\n",
        "    plt.ylabel(\"Valores reales\")\n",
        "    plt.xlabel(\"Valores calculados\")\n",
        "    plt.show()"
      ],
      "metadata": {
        "id": "6F8ne9SNEwes"
      },
      "execution_count": null,
      "outputs": []
    },
    {
      "cell_type": "code",
      "source": [
        "plot_cm(conf, [0, 1, 2, 3, 4, 5, 6, 7, 8, 9])"
      ],
      "metadata": {
        "id": "Zjeea5sWGMr_"
      },
      "execution_count": null,
      "outputs": []
    }
  ]
}