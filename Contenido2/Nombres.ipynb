{
  "nbformat": 4,
  "nbformat_minor": 0,
  "metadata": {
    "colab": {
      "provenance": []
    },
    "kernelspec": {
      "name": "python3",
      "display_name": "Python 3"
    },
    "language_info": {
      "name": "python"
    }
  },
  "cells": [
    {
      "cell_type": "code",
      "source": [
        "# Manipulación de matrices\n",
        "import pandas as pd\n",
        "# Operaciones numéricas\n",
        "import numpy as np\n"
      ],
      "metadata": {
        "id": "rmpbYPuZqtRA"
      },
      "execution_count": null,
      "outputs": []
    },
    {
      "cell_type": "code",
      "source": [
        "# Leer el archivo nombre.csv y convertirlo en un df\n",
        "df_base = pd.read_csv('nombre.csv')\n",
        "# ver los primeros registros del df\n",
        "df_base.head()"
      ],
      "metadata": {
        "id": "gHhuUU9fsf_g"
      },
      "execution_count": null,
      "outputs": []
    },
    {
      "cell_type": "code",
      "source": [
        "# Mostrar información sobre el df creado\n",
        "df_base.info()"
      ],
      "metadata": {
        "id": "MU16h4GytXDe"
      },
      "execution_count": null,
      "outputs": []
    },
    {
      "cell_type": "markdown",
      "source": [
        "Encontrando a Mary\n",
        "\n",
        "El primer registro muestra que en el estado MO nacieron 611 mujeres llamadas Mary durante el año 1910. Ante esto podríamos plantearnos las siguientes interrogantes:\n",
        "\n",
        "1. ¿Hay hombres llamados Mary?\n",
        "2. ¿Cuál es la cantidad de hombres llamados Mary en cada estado?\n",
        "3. ¿Cuál es la cantidad promedio de hombres llamados Mary en cada estado?\n",
        "4. ¿Cuáles son los tres estados donde hay más hombres llamados Mary?\n",
        "\n",
        "Vamos a resolver dichas interrogantes en el siguiente ejemplo.\n",
        "\n",
        "Lo primero será obtener todos los registros de hombres llamados Mary en todo el conjunto de datos."
      ],
      "metadata": {
        "id": "A9sDcqKUvFrq"
      }
    },
    {
      "cell_type": "code",
      "source": [
        "# Las condiciones se definen como muestra el ejemplo\n",
        "# Almacenamos el resultado del filtro en una nueva variable llamada df_mary\n",
        "df_mary = df_base[\n",
        "    (df_base['sex'] == 'M') &\n",
        "    (df_base['name' == 'Mary'])\n",
        "]\n",
        "\n",
        "# Consultamos los primeros cinco registros\n",
        "df_mary.head()"
      ],
      "metadata": {
        "id": "swR39FF4vQBO"
      },
      "execution_count": null,
      "outputs": []
    },
    {
      "cell_type": "markdown",
      "source": [
        "Los datos de sex y name ya no son relevantes para este set de datos, pues sabemos que todos son M y Mary respectivamente. Además, ya que no tendremos en cuenta el año para el análisis, tampoco vamos a necesitarlo.\n",
        "\n",
        "Ya que únicamente necesitamos dos datos para el análisis, podemos crear otro df que contenga únicamente esos dos datos."
      ],
      "metadata": {
        "id": "HrOATeOBwfAW"
      }
    },
    {
      "cell_type": "code",
      "source": [
        "# Generar un nuevo df\n",
        "nuevo_df = df_mary[['state', 'quantity']]\n",
        "\n",
        "nuevo_df.head()"
      ],
      "metadata": {
        "id": "oKelmc8zwiEV"
      },
      "execution_count": null,
      "outputs": []
    },
    {
      "cell_type": "markdown",
      "source": [
        "Bonus:\n",
        "\n",
        "Si quisiéramos saber cuántos hombres Mary han habido en total, podemos generar la sumatoria de forma similar a la estadística descriptiva."
      ],
      "metadata": {
        "id": "n-H_szZhw_Lo"
      }
    },
    {
      "cell_type": "code",
      "source": [
        "nuevo_df[['quantity']].sum()"
      ],
      "metadata": {
        "id": "81Wn8K-CxAJm"
      },
      "execution_count": null,
      "outputs": []
    },
    {
      "cell_type": "markdown",
      "source": [
        "Ahora que tenemos el set de datos que necesitamos, podemos agrupar la información para realizar el análisis propuesto. Los grupos\n",
        "en un df se crean con el método groupby , indicando la serie por la que se desea agrupar.\n",
        "\n",
        "Una vez se han agrupado, es necesario establecer una función de agregación, que servirá para establecer la forma de manipular los\n",
        "datos no agrupados. Esta agregación se realiza con el método agg de un df agrupado, indicando como parámetro la función a\n",
        "utilizar."
      ],
      "metadata": {
        "id": "7bQzsmgP0USv"
      }
    },
    {
      "cell_type": "code",
      "source": [
        "# Agrupar por estado utilizando la función sum\n",
        "estados_df = nuevo_df.groupby('state').agg('sum')\n",
        "estados_df.head()"
      ],
      "metadata": {
        "id": "QxCklvJy0eVJ"
      },
      "execution_count": null,
      "outputs": []
    },
    {
      "cell_type": "code",
      "source": [
        "# Consultar todos los registros\n",
        "estados_df"
      ],
      "metadata": {
        "id": "e4AoPB1d21KP"
      },
      "execution_count": null,
      "outputs": []
    },
    {
      "cell_type": "code",
      "source": [
        "# Reto:\n",
        "# Obtener la cantidad promedio de Mary por estado usando estados_df\n",
        "estados_df = nuevo_df.groupby('state').agg('mean')\n",
        "estados_df.head()"
      ],
      "metadata": {
        "id": "vbdNAwZZ3e8n"
      },
      "execution_count": null,
      "outputs": []
    },
    {
      "cell_type": "code",
      "source": [
        "# Ordenar el set de datos por la mayor cantidad, descendentemente\n",
        "estados_df.sort_values('quantity', ascending==False)"
      ],
      "metadata": {
        "id": "s0iYkJCc39f-"
      },
      "execution_count": null,
      "outputs": []
    },
    {
      "cell_type": "code",
      "source": [
        "# Reto\n",
        "# Obtener los 10 registros con la mayor cantidad de Mary\n",
        "estados_df.sort_values('quantity', ascending=False).head(10)"
      ],
      "metadata": {
        "id": "g4hjG_294kUP"
      },
      "execution_count": null,
      "outputs": []
    },
    {
      "cell_type": "code",
      "source": [
        "# Al utilizar una serie para agrupar un df, esa serie se convierte en el nuevo índice.\n",
        "# Por ello es posible acceder por estado\n",
        "estados_df.loc['CA']  #muestra la cantidad de elementos que hay en el df\n"
      ],
      "metadata": {
        "id": "3W_1yb8G45c-"
      },
      "execution_count": null,
      "outputs": []
    },
    {
      "cell_type": "code",
      "source": [
        "# Para convertir el índice en una columna del df, se puede generar uno nuevo aleatorio con reset_index\n",
        "# Nota al uso de inplace=True para modificar el df\n",
        "estados_df.reset_index(inplece=True)\n",
        "estados_df"
      ],
      "metadata": {
        "id": "1_nloFId5uSB"
      },
      "execution_count": null,
      "outputs": []
    },
    {
      "cell_type": "markdown",
      "source": [
        "Finalmente, cualquier df puede ser exportado a diversos formatos. Por ejemplo, exportemos estados_df a un archivo de excel."
      ],
      "metadata": {
        "id": "g08rvQbc55xf"
      }
    },
    {
      "cell_type": "code",
      "source": [
        "estados_df.to_excel('estodos_mary.xlsx', index=None)"
      ],
      "metadata": {
        "id": "Km1rG06T58VH"
      },
      "execution_count": null,
      "outputs": []
    },
    {
      "cell_type": "markdown",
      "source": [
        "Otras preguntas a las que podemos responder utilizando estadística y Pandas.\n",
        "\n",
        "• ¿Cuál es el año con la mayor cantidad de Maries en total?\n",
        "\n",
        "• ¿Cuál es el estado que tiene làmenor cantidad de Maries en total?\n",
        "\n",
        "• ¿Cuántos Maries nacieron entre el 2000 y el 2010 en total?\n",
        "\n",
        "• ¿En qué año hubo más Maries en el estado de California?"
      ],
      "metadata": {
        "id": "JzlZYjWB747-"
      }
    }
  ]
}