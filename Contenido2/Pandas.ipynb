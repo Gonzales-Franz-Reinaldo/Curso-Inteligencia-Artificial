{
  "nbformat": 4,
  "nbformat_minor": 0,
  "metadata": {
    "colab": {
      "provenance": []
    },
    "kernelspec": {
      "name": "python3",
      "display_name": "Python 3"
    },
    "language_info": {
      "name": "python"
    }
  },
  "cells": [
    {
      "cell_type": "markdown",
      "source": [
        "Estadistica\n",
        "Conceptos básicos de estadística descriptiva\n",
        "\n",
        "- Distribución\n",
        "- Media\n",
        "- Moda\n",
        "- Máximo y mínimo\n",
        "- Desviación estándar\n",
        "- Correlación"
      ],
      "metadata": {
        "id": "bfq7JV8ukvvc"
      }
    },
    {
      "cell_type": "code",
      "source": [
        "import pandas as pd # manipulación de datos\n",
        "import numpy as np # Operaciones numéricas\n",
        "import matplotlib.pyplot as plt # Creación de gráficos y visualizaciones\n"
      ],
      "metadata": {
        "id": "qfucnYd0juS2"
      },
      "execution_count": 2,
      "outputs": []
    },
    {
      "cell_type": "code",
      "source": [
        "# Creación de un conjunto de datos aleatorios\n",
        "prueba_df = pd.DataFrame(\n",
        "    np.random.randint(0, 120, size=(50, 5)),\n",
        "    columns=['A', 'B', 'C', 'D', 'E']\n",
        ")\n",
        "\n",
        "prueba_df.head(12) # muestra la cantidad de filas a imprimir\n",
        "\n",
        "datos = pd.DataFrame(\n",
        "    np.random.randint(10, 100, size=(30, 3)),\n",
        "    columns=['A', 'B', 'F']\n",
        ")\n",
        "\n",
        "datos"
      ],
      "metadata": {
        "id": "H9i70A_1lNAt"
      },
      "execution_count": null,
      "outputs": []
    },
    {
      "cell_type": "code",
      "source": [
        "# Distribución\n",
        "prueba_df.boxplot()\n",
        "plt.show()"
      ],
      "metadata": {
        "id": "ZeJd8L2tlyHO"
      },
      "execution_count": null,
      "outputs": []
    },
    {
      "cell_type": "code",
      "source": [
        "prueba_df.hist()\n",
        "plt.show()"
      ],
      "metadata": {
        "id": "m7rw5PU_wzzt"
      },
      "execution_count": null,
      "outputs": []
    },
    {
      "cell_type": "code",
      "source": [
        "# Media\n",
        "prueba_df.mean()"
      ],
      "metadata": {
        "id": "EJmBvbtzoCXD"
      },
      "execution_count": null,
      "outputs": []
    },
    {
      "cell_type": "code",
      "source": [
        "# Moda\n",
        "prueba_df['E'].mode()"
      ],
      "metadata": {
        "id": "21cTSxCnoiYC"
      },
      "execution_count": null,
      "outputs": []
    },
    {
      "cell_type": "code",
      "source": [
        "# Desviación Estandar\n",
        "prueba_df.std()"
      ],
      "metadata": {
        "id": "IC1lSmAoo0ed"
      },
      "execution_count": null,
      "outputs": []
    },
    {
      "cell_type": "code",
      "source": [
        "# Correlación\n",
        "prueba_df.corr()"
      ],
      "metadata": {
        "id": "3NR2KQ0ApiqM"
      },
      "execution_count": null,
      "outputs": []
    }
  ]
}