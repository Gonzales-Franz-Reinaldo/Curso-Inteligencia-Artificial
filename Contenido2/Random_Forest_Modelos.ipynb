{
  "nbformat": 4,
  "nbformat_minor": 0,
  "metadata": {
    "colab": {
      "provenance": []
    },
    "kernelspec": {
      "name": "python3",
      "display_name": "Python 3"
    },
    "language_info": {
      "name": "python"
    }
  },
  "cells": [
    {
      "cell_type": "code",
      "source": [
        "# Manipulación de datos\n",
        "import pandas as pd\n",
        "import numpy as np\n",
        "import matplotlib.pyplot as plt\n",
        "from time import time\n",
        "\n",
        "# Libreria para Random forest\n",
        "from sklearn.ensemble import RandomForestClassifier, AdaBoostClassifier\n",
        "# Libreria para SVM\n",
        "from sklearn.svm import SVC\n",
        "# Libreria para NaieveBayes\n",
        "from sklearn.naive_bayes import GaussianNB\n",
        "# Libreria para KNN\n",
        "from sklearn.neighbors import KNeighborsClassifier\n",
        "# Medicion de precisión\n",
        "from sklearn.metrics import accuracy_score\n",
        "# guardar modelos\n",
        "from joblib import dump, load\n",
        "\n",
        "# Decisión Tree\n",
        "from sklearn import tree\n",
        "# Redes neuronales\n",
        "from sklearn.neural_network import MLPClassifier"
      ],
      "metadata": {
        "id": "VhTrGwUFRli6"
      },
      "execution_count": 16,
      "outputs": []
    },
    {
      "cell_type": "code",
      "source": [
        "X_train = pd.read_csv('/content/X_train.csv')\n",
        "X_test = pd.read_csv('/content/X_test.csv')\n",
        "y_train = pd.read_csv('/content/y_train.csv')\n",
        "y_test = pd.read_csv('/content/y_test.csv')"
      ],
      "metadata": {
        "id": "tO4mRK1NcqRq"
      },
      "execution_count": 6,
      "outputs": []
    },
    {
      "cell_type": "code",
      "source": [
        "nombres = [\n",
        "    'Linear SVM',\n",
        "    'RBF SVM',\n",
        "    'Poly SVM',\n",
        "    'Poly SVM 2',\n",
        "    # 'Random Forest',\n",
        "    'KNN',\n",
        "    # 'AdaBoost',\n",
        "    # 'Naive Bayes',\n",
        "    'Decision tree',\n",
        "    'Red neuronal'\n",
        "]\n",
        "\n",
        "modelos = [\n",
        "    SVC(kernel='linear'),\n",
        "    SVC(kernel='rbf'),\n",
        "    SVC(kernel='poly'),\n",
        "    SVC(kernel='poly', decision_function_shape='ovo'),\n",
        "    # RandomForestClassifier(max_depth=5, n_estimators=10),\n",
        "    KNeighborsClassifier(3),\n",
        "    # AdaBoostClassifier(),\n",
        "    # GaussianNB(),\n",
        "    tree.DecisionTreeClassifier(),\n",
        "    MLPClassifier(solver='lbfgs', alpha=1e-5, hidden_layer_sizes=(5, 2), random_state=1)\n",
        "]"
      ],
      "metadata": {
        "id": "iB18auzrdURM"
      },
      "execution_count": 24,
      "outputs": []
    },
    {
      "cell_type": "code",
      "source": [
        "for indice, clf in enumerate(modelos):\n",
        "  # Entrenar\n",
        "  clf.fit(X_train, y_train.values.ravel())\n",
        "  # Predecir\n",
        "  y_pred = clf.predict(X_test)\n",
        "  print(nombres[indice])\n",
        "  # Evaluar\n",
        "  print(accuracy_score(y_test, y_pred))\n",
        "  print('=======')\n",
        "  # Explorar modelo\n",
        "  dump(clf, f'{nombres[indice]}.joblib')"
      ],
      "metadata": {
        "id": "9lPge-FHeJzV"
      },
      "execution_count": null,
      "outputs": []
    },
    {
      "cell_type": "code",
      "source": [
        "modelo_final = load('/content/Decision tree.joblib')"
      ],
      "metadata": {
        "id": "h4hs9BfsgGjH"
      },
      "execution_count": 13,
      "outputs": []
    },
    {
      "cell_type": "code",
      "source": [
        "modelo_final.predict(X_test)"
      ],
      "metadata": {
        "id": "ibUUW2kpjTP3"
      },
      "execution_count": null,
      "outputs": []
    }
  ]
}