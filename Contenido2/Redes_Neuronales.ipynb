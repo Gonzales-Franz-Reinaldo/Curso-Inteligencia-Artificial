{
  "nbformat": 4,
  "nbformat_minor": 0,
  "metadata": {
    "colab": {
      "provenance": []
    },
    "kernelspec": {
      "name": "python3",
      "display_name": "Python 3"
    },
    "language_info": {
      "name": "python"
    }
  },
  "cells": [
    {
      "cell_type": "markdown",
      "source": [
        "**Keras**\n",
        "\n",
        "Keras es una librería de alto nivel para generar redes neuronales. Fue concebida para funcionar como una interfaz amigable hacia el framework de inteligencia artificial Tensorflow, desarrollado por Google."
      ],
      "metadata": {
        "id": "dAf9QUpGM0Kl"
      }
    },
    {
      "cell_type": "code",
      "source": [
        "!pip install tensorflow"
      ],
      "metadata": {
        "id": "ldqcIiIlDI3l"
      },
      "execution_count": null,
      "outputs": []
    },
    {
      "cell_type": "code",
      "source": [
        "# Keras -> libreria para redes neuronales\n",
        "import pandas as pd\n",
        "import matplotlib.pyplot as plt\n",
        "\n",
        "# Red neuronal secuencial\n",
        "from tensorflow.keras.models import Sequential\n",
        "# Capa completamente conectada\n",
        "from tensorflow.keras.layers import Dense\n",
        "# Optimizador\n",
        "from tensorflow.keras.optimizers import Adam"
      ],
      "metadata": {
        "id": "Gb6T9rRCDBPi"
      },
      "execution_count": 2,
      "outputs": []
    },
    {
      "cell_type": "code",
      "source": [
        "data_df = pd.read_csv('/content/diabetes.csv')\n",
        "data_df.info()"
      ],
      "metadata": {
        "colab": {
          "base_uri": "https://localhost:8080/"
        },
        "id": "0bpxibMmE9Ih",
        "outputId": "b9ad0dc6-0b93-41f2-8359-d27a8995cf0d"
      },
      "execution_count": 3,
      "outputs": [
        {
          "output_type": "stream",
          "name": "stdout",
          "text": [
            "<class 'pandas.core.frame.DataFrame'>\n",
            "RangeIndex: 767 entries, 0 to 766\n",
            "Data columns (total 9 columns):\n",
            " #   Column  Non-Null Count  Dtype  \n",
            "---  ------  --------------  -----  \n",
            " 0   6       767 non-null    int64  \n",
            " 1   148     767 non-null    int64  \n",
            " 2   72      767 non-null    int64  \n",
            " 3   35      767 non-null    int64  \n",
            " 4   0       767 non-null    int64  \n",
            " 5   33.6    767 non-null    float64\n",
            " 6   0.627   767 non-null    float64\n",
            " 7   50      767 non-null    int64  \n",
            " 8   1       767 non-null    int64  \n",
            "dtypes: float64(2), int64(7)\n",
            "memory usage: 54.1 KB\n"
          ]
        }
      ]
    },
    {
      "cell_type": "code",
      "source": [
        "X = data_df.iloc[:, 0:8]\n",
        "y = data_df.iloc[:,8]"
      ],
      "metadata": {
        "id": "AaYAET-ZFSLP"
      },
      "execution_count": 4,
      "outputs": []
    },
    {
      "cell_type": "code",
      "source": [
        "# Crear la red neuronal\n",
        "model = Sequential()\n",
        "\n",
        "# Primer parámetro: cantidad de neuronas\n",
        "# Segundo (solo en la primer capa): cantidad de entrada\n",
        "model.add(Dense(12, input_dim = 8, activation='relu'))\n",
        "model.add(Dense(8, activation='relu'))\n",
        "model.add(Dense(8, activation='relu'))\n",
        "model.add(Dense(6, activation='relu'))\n",
        "\n",
        "model.add(Dense(1, activation='sigmoid'))"
      ],
      "metadata": {
        "id": "5pbmf9bBIN9x"
      },
      "execution_count": 15,
      "outputs": []
    },
    {
      "cell_type": "code",
      "source": [
        "model.summary()"
      ],
      "metadata": {
        "colab": {
          "base_uri": "https://localhost:8080/"
        },
        "id": "tdZBdXExJKbO",
        "outputId": "042e553e-6f9c-4059-ea74-f9e068cafbd0"
      },
      "execution_count": 16,
      "outputs": [
        {
          "output_type": "stream",
          "name": "stdout",
          "text": [
            "Model: \"sequential_2\"\n",
            "_________________________________________________________________\n",
            " Layer (type)                Output Shape              Param #   \n",
            "=================================================================\n",
            " dense_7 (Dense)             (None, 12)                108       \n",
            "                                                                 \n",
            " dense_8 (Dense)             (None, 8)                 104       \n",
            "                                                                 \n",
            " dense_9 (Dense)             (None, 8)                 72        \n",
            "                                                                 \n",
            " dense_10 (Dense)            (None, 6)                 54        \n",
            "                                                                 \n",
            " dense_11 (Dense)            (None, 1)                 7         \n",
            "                                                                 \n",
            "=================================================================\n",
            "Total params: 345 (1.35 KB)\n",
            "Trainable params: 345 (1.35 KB)\n",
            "Non-trainable params: 0 (0.00 Byte)\n",
            "_________________________________________________________________\n"
          ]
        }
      ]
    },
    {
      "cell_type": "code",
      "source": [
        "model.compile(\n",
        "    loss='binary_crossentropy',\n",
        "    optimizer='adam',\n",
        "    metrics=['accuracy']\n",
        ")"
      ],
      "metadata": {
        "id": "axT1mRNkJPWj"
      },
      "execution_count": 17,
      "outputs": []
    },
    {
      "cell_type": "code",
      "source": [
        "historial = model.fit(\n",
        "    X.values,\n",
        "    y.values,\n",
        "    epochs=50,\n",
        "    verbose=2\n",
        ")"
      ],
      "metadata": {
        "colab": {
          "base_uri": "https://localhost:8080/"
        },
        "id": "xF_aD52qKg-f",
        "outputId": "1156633c-5621-4511-fc8c-badd188b790e"
      },
      "execution_count": 18,
      "outputs": [
        {
          "output_type": "stream",
          "name": "stdout",
          "text": [
            "Epoch 1/50\n",
            "24/24 - 1s - loss: 1.7169 - accuracy: 0.6050 - 1s/epoch - 46ms/step\n",
            "Epoch 2/50\n",
            "24/24 - 0s - loss: 0.8174 - accuracy: 0.6349 - 56ms/epoch - 2ms/step\n",
            "Epoch 3/50\n",
            "24/24 - 0s - loss: 0.7418 - accuracy: 0.6428 - 48ms/epoch - 2ms/step\n",
            "Epoch 4/50\n",
            "24/24 - 0s - loss: 0.7190 - accuracy: 0.6323 - 58ms/epoch - 2ms/step\n",
            "Epoch 5/50\n",
            "24/24 - 0s - loss: 0.7080 - accuracy: 0.6323 - 47ms/epoch - 2ms/step\n",
            "Epoch 6/50\n",
            "24/24 - 0s - loss: 0.6972 - accuracy: 0.6454 - 46ms/epoch - 2ms/step\n",
            "Epoch 7/50\n",
            "24/24 - 0s - loss: 0.6738 - accuracy: 0.6506 - 47ms/epoch - 2ms/step\n",
            "Epoch 8/50\n",
            "24/24 - 0s - loss: 0.6677 - accuracy: 0.6402 - 47ms/epoch - 2ms/step\n",
            "Epoch 9/50\n",
            "24/24 - 0s - loss: 0.6632 - accuracy: 0.6441 - 49ms/epoch - 2ms/step\n",
            "Epoch 10/50\n",
            "24/24 - 0s - loss: 0.6552 - accuracy: 0.6506 - 51ms/epoch - 2ms/step\n",
            "Epoch 11/50\n",
            "24/24 - 0s - loss: 0.6474 - accuracy: 0.6532 - 45ms/epoch - 2ms/step\n",
            "Epoch 12/50\n",
            "24/24 - 0s - loss: 0.6389 - accuracy: 0.6675 - 49ms/epoch - 2ms/step\n",
            "Epoch 13/50\n",
            "24/24 - 0s - loss: 0.6568 - accuracy: 0.6545 - 48ms/epoch - 2ms/step\n",
            "Epoch 14/50\n",
            "24/24 - 0s - loss: 0.6308 - accuracy: 0.6558 - 45ms/epoch - 2ms/step\n",
            "Epoch 15/50\n",
            "24/24 - 0s - loss: 0.6411 - accuracy: 0.6571 - 44ms/epoch - 2ms/step\n",
            "Epoch 16/50\n",
            "24/24 - 0s - loss: 0.6322 - accuracy: 0.6545 - 46ms/epoch - 2ms/step\n",
            "Epoch 17/50\n",
            "24/24 - 0s - loss: 0.6290 - accuracy: 0.6714 - 47ms/epoch - 2ms/step\n",
            "Epoch 18/50\n",
            "24/24 - 0s - loss: 0.6241 - accuracy: 0.6819 - 46ms/epoch - 2ms/step\n",
            "Epoch 19/50\n",
            "24/24 - 0s - loss: 0.6462 - accuracy: 0.6441 - 53ms/epoch - 2ms/step\n",
            "Epoch 20/50\n",
            "24/24 - 0s - loss: 0.6164 - accuracy: 0.6675 - 48ms/epoch - 2ms/step\n",
            "Epoch 21/50\n",
            "24/24 - 0s - loss: 0.6161 - accuracy: 0.6584 - 49ms/epoch - 2ms/step\n",
            "Epoch 22/50\n",
            "24/24 - 0s - loss: 0.6088 - accuracy: 0.6714 - 50ms/epoch - 2ms/step\n",
            "Epoch 23/50\n",
            "24/24 - 0s - loss: 0.6019 - accuracy: 0.6754 - 47ms/epoch - 2ms/step\n",
            "Epoch 24/50\n",
            "24/24 - 0s - loss: 0.6044 - accuracy: 0.6688 - 56ms/epoch - 2ms/step\n",
            "Epoch 25/50\n",
            "24/24 - 0s - loss: 0.6128 - accuracy: 0.6819 - 48ms/epoch - 2ms/step\n",
            "Epoch 26/50\n",
            "24/24 - 0s - loss: 0.5959 - accuracy: 0.6793 - 46ms/epoch - 2ms/step\n",
            "Epoch 27/50\n",
            "24/24 - 0s - loss: 0.6116 - accuracy: 0.6688 - 46ms/epoch - 2ms/step\n",
            "Epoch 28/50\n",
            "24/24 - 0s - loss: 0.5859 - accuracy: 0.6923 - 48ms/epoch - 2ms/step\n",
            "Epoch 29/50\n",
            "24/24 - 0s - loss: 0.5930 - accuracy: 0.6819 - 46ms/epoch - 2ms/step\n",
            "Epoch 30/50\n",
            "24/24 - 0s - loss: 0.5975 - accuracy: 0.6701 - 51ms/epoch - 2ms/step\n",
            "Epoch 31/50\n",
            "24/24 - 0s - loss: 0.6109 - accuracy: 0.6780 - 51ms/epoch - 2ms/step\n",
            "Epoch 32/50\n",
            "24/24 - 0s - loss: 0.5800 - accuracy: 0.7053 - 45ms/epoch - 2ms/step\n",
            "Epoch 33/50\n",
            "24/24 - 0s - loss: 0.5859 - accuracy: 0.6806 - 46ms/epoch - 2ms/step\n",
            "Epoch 34/50\n",
            "24/24 - 0s - loss: 0.5807 - accuracy: 0.6936 - 45ms/epoch - 2ms/step\n",
            "Epoch 35/50\n",
            "24/24 - 0s - loss: 0.5848 - accuracy: 0.6884 - 45ms/epoch - 2ms/step\n",
            "Epoch 36/50\n",
            "24/24 - 0s - loss: 0.5812 - accuracy: 0.6949 - 47ms/epoch - 2ms/step\n",
            "Epoch 37/50\n",
            "24/24 - 0s - loss: 0.5916 - accuracy: 0.6688 - 47ms/epoch - 2ms/step\n",
            "Epoch 38/50\n",
            "24/24 - 0s - loss: 0.5857 - accuracy: 0.7014 - 46ms/epoch - 2ms/step\n",
            "Epoch 39/50\n",
            "24/24 - 0s - loss: 0.5744 - accuracy: 0.6988 - 46ms/epoch - 2ms/step\n",
            "Epoch 40/50\n",
            "24/24 - 0s - loss: 0.5701 - accuracy: 0.7014 - 46ms/epoch - 2ms/step\n",
            "Epoch 41/50\n",
            "24/24 - 0s - loss: 0.5806 - accuracy: 0.6910 - 47ms/epoch - 2ms/step\n",
            "Epoch 42/50\n",
            "24/24 - 0s - loss: 0.5621 - accuracy: 0.7014 - 45ms/epoch - 2ms/step\n",
            "Epoch 43/50\n",
            "24/24 - 0s - loss: 0.5632 - accuracy: 0.7014 - 48ms/epoch - 2ms/step\n",
            "Epoch 44/50\n",
            "24/24 - 0s - loss: 0.5674 - accuracy: 0.7132 - 59ms/epoch - 2ms/step\n",
            "Epoch 45/50\n",
            "24/24 - 0s - loss: 0.5792 - accuracy: 0.6962 - 46ms/epoch - 2ms/step\n",
            "Epoch 46/50\n",
            "24/24 - 0s - loss: 0.5559 - accuracy: 0.7223 - 50ms/epoch - 2ms/step\n",
            "Epoch 47/50\n",
            "24/24 - 0s - loss: 0.5726 - accuracy: 0.7053 - 49ms/epoch - 2ms/step\n",
            "Epoch 48/50\n",
            "24/24 - 0s - loss: 0.5677 - accuracy: 0.7014 - 45ms/epoch - 2ms/step\n",
            "Epoch 49/50\n",
            "24/24 - 0s - loss: 0.5715 - accuracy: 0.7197 - 47ms/epoch - 2ms/step\n",
            "Epoch 50/50\n",
            "24/24 - 0s - loss: 0.5602 - accuracy: 0.7210 - 45ms/epoch - 2ms/step\n"
          ]
        }
      ]
    },
    {
      "cell_type": "code",
      "source": [
        "plt.plot(historial.history['loss'])\n",
        "plt.show()"
      ],
      "metadata": {
        "colab": {
          "base_uri": "https://localhost:8080/",
          "height": 430
        },
        "id": "5_8Y5myzK0wl",
        "outputId": "08619ce3-53c1-413b-e7c3-94343c5c1630"
      },
      "execution_count": 19,
      "outputs": [
        {
          "output_type": "display_data",
          "data": {
            "text/plain": [
              "<Figure size 640x480 with 1 Axes>"
            ],
            "image/png": "[encoded data removed]"
          },
          "metadata": {}
        }
      ]
    },
    {
      "cell_type": "code",
      "source": [
        "plt.plot(historial.history['accuracy'])\n",
        "plt.show()"
      ],
      "metadata": {
        "colab": {
          "base_uri": "https://localhost:8080/",
          "height": 430
        },
        "id": "BNup3FfGL4j_",
        "outputId": "0f4a94cb-99d9-4ec5-a931-7cb37737b319"
      },
      "execution_count": 20,
      "outputs": [
        {
          "output_type": "display_data",
          "data": {
            "text/plain": [
              "<Figure size 640x480 with 1 Axes>"
            ],
            "image/png": "[encoded data removed]"
          },
          "metadata": {}
        }
      ]
    },
    {
      "cell_type": "code",
      "source": [],
      "metadata": {
        "id": "xPuRLwu9MEDf"
      },
      "execution_count": null,
      "outputs": []
    }
  ]
}